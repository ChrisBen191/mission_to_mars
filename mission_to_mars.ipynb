{
 "cells": [
  {
   "cell_type": "code",
   "execution_count": 2,
   "metadata": {},
   "outputs": [],
   "source": [
    "# declare dependencies\n",
    "import requests\n",
    "from bs4 import BeautifulSoup\n",
    "import pandas as pd\n",
    "import re\n",
    "from splinter import Browser\n",
    "\n",
    "browser = Browser('chrome',headless=False)"
   ]
  },
  {
   "cell_type": "markdown",
   "metadata": {},
   "source": [
    "## NASA Mars News"
   ]
  },
  {
   "cell_type": "code",
   "execution_count": 3,
   "metadata": {},
   "outputs": [],
   "source": [
    "# visited mars news through the splinter module\n",
    "news_url = 'https://mars.nasa.gov/news/'\n",
    "browser.visit(news_url)"
   ]
  },
  {
   "cell_type": "code",
   "execution_count": 81,
   "metadata": {},
   "outputs": [
    {
     "name": "stdout",
     "output_type": "stream",
     "text": [
      "InSight Lands Praise and a Proclamation from LA County\n",
      "Several members of the Mars InSight team accepted a proclamation on behalf of the mission from L.A. County Board of Supervisors on Tuesday, Feb. 19.\n"
     ]
    }
   ],
   "source": [
    "# created an html object to obtain html content\n",
    "news_html = browser.html\n",
    "\n",
    "# parsing through html using beautiful soup\n",
    "soup = BeautifulSoup(news_html, 'html.parser')\n",
    "\n",
    "# assigned the title and paragraph text to variables\n",
    "news_title = soup.find('div', {'class': 'content_title'}).find('a').text\n",
    "news_p = soup.find('div', {'class': 'article_teaser_body'}).text\n",
    "\n",
    "\n",
    "# printed the variables from the latest article\n",
    "print(news_title)\n",
    "print(news_p)"
   ]
  },
  {
   "cell_type": "markdown",
   "metadata": {},
   "source": [
    "## JPL Mars Space Images - Featured Image"
   ]
  },
  {
   "cell_type": "code",
   "execution_count": 83,
   "metadata": {},
   "outputs": [],
   "source": [
    "# visited mars space images through the splinter module\n",
    "image_url = 'https://www.jpl.nasa.gov/spaceimages/?search=&category=Mars'\n",
    "browser.visit(image_url)"
   ]
  },
  {
   "cell_type": "code",
   "execution_count": 84,
   "metadata": {},
   "outputs": [
    {
     "name": "stdout",
     "output_type": "stream",
     "text": [
      "https://www.jpl.nasa.gov/spaceimages/images/wallpaper/PIA15883-1920x1200.jpg\n"
     ]
    }
   ],
   "source": [
    "# created an html object to obtain html content\n",
    "image_html = browser.html\n",
    "\n",
    "# parsing through html using beautiful soup\n",
    "soup = BeautifulSoup(image_html, 'html.parser')\n",
    "\n",
    "# retrieved background-image url from article > style tag\n",
    "article = soup.find('article')['style']\n",
    "\n",
    "# sliced the image url to only include the path to the image\n",
    "image_url = article[23:-3]\n",
    "\n",
    "# website url \n",
    "main_url = 'https://www.jpl.nasa.gov'\n",
    "\n",
    "# combined the website url with the spliced image url\n",
    "featured_image_url = main_url + image_url\n",
    "print(featured_image_url)"
   ]
  },
  {
   "cell_type": "markdown",
   "metadata": {},
   "source": [
    "## Mars Weather"
   ]
  },
  {
   "cell_type": "code",
   "execution_count": 86,
   "metadata": {},
   "outputs": [],
   "source": [
    "weather_url = \"https://twitter.com/marswxreport?lang=en\"\n",
    "browser.visit(weather_url)"
   ]
  },
  {
   "cell_type": "code",
   "execution_count": 87,
   "metadata": {},
   "outputs": [
    {
     "name": "stdout",
     "output_type": "stream",
     "text": [
      "InSight sol 88 (2019-02-25) low -95.2ºC (-139.4ºF) high -17.8ºC (0.0ºF)\n",
      "winds from the SW at 5.2 m/s (11.6 mph) gusting to 19.8 m/s (44.3 mph)\n",
      "pressure at 7.20 hPapic.twitter.com/1msjBvhiu7\n"
     ]
    }
   ],
   "source": [
    "# created an html object to obtain html content\n",
    "weather_html = browser.html\n",
    "\n",
    "# parsing through html using beautiful soup\n",
    "soup = BeautifulSoup(weather_html, 'html.parser')\n",
    "\n",
    "# retrieved html content containing tweet information\n",
    "latest_tweets = soup.find_all('div', {'class':'js-tweet-text-container'})\n",
    "\n",
    "# for loop to loop through tweets and to retrieve the first tweet  \n",
    "# with weather information \n",
    "for tweet in latest_tweets:\n",
    "    weather_tweet = tweet.find('p').text\n",
    "    \n",
    "    # two strings found in every weather-related tweet\n",
    "    if 'sol' and 'low' in weather_tweet:\n",
    "        print(weather_tweet)\n",
    "        break\n",
    "    else:\n",
    "        pass"
   ]
  },
  {
   "cell_type": "markdown",
   "metadata": {},
   "source": [
    "## Mars Facts"
   ]
  },
  {
   "cell_type": "code",
   "execution_count": 4,
   "metadata": {},
   "outputs": [],
   "source": [
    "fact_url = \"https://space-facts.com/mars/\"\n",
    "browser.visit(fact_url)"
   ]
  },
  {
   "cell_type": "code",
   "execution_count": 6,
   "metadata": {},
   "outputs": [],
   "source": [
    "# parsed the html using pandas\n",
    "mars_facts = pd.read_html(fact_url)\n",
    "\n",
    "# assigned the facts dataframe to mars_df\n",
    "mars_df = mars_facts[0]\n",
    "\n",
    "# assigned the column names in the mars_df\n",
    "mars_df.columns = ['Description', 'Measurement']\n",
    "\n",
    "# set the index to the 'description' column\n",
    "mars_df.set_index('Description', inplace=True)\n",
    "\n",
    "# saved the mars_df to html table\n",
    "mars_html = mars_df.to_html()"
   ]
  },
  {
   "cell_type": "markdown",
   "metadata": {},
   "source": [
    "## Mars Hemispheres"
   ]
  },
  {
   "cell_type": "code",
   "execution_count": null,
   "metadata": {},
   "outputs": [],
   "source": [
    "s"
   ]
  }
 ],
 "metadata": {
  "kernelspec": {
   "display_name": "Python 3",
   "language": "python",
   "name": "python3"
  },
  "language_info": {
   "codemirror_mode": {
    "name": "ipython",
    "version": 3
   },
   "file_extension": ".py",
   "mimetype": "text/x-python",
   "name": "python",
   "nbconvert_exporter": "python",
   "pygments_lexer": "ipython3",
   "version": "3.7.1"
  },
  "toc": {
   "base_numbering": 1,
   "nav_menu": {},
   "number_sections": false,
   "sideBar": true,
   "skip_h1_title": false,
   "title_cell": "Table of Contents",
   "title_sidebar": "Contents",
   "toc_cell": false,
   "toc_position": {},
   "toc_section_display": true,
   "toc_window_display": false
  },
  "varInspector": {
   "cols": {
    "lenName": 16,
    "lenType": 16,
    "lenVar": 40
   },
   "kernels_config": {
    "python": {
     "delete_cmd_postfix": "",
     "delete_cmd_prefix": "del ",
     "library": "var_list.py",
     "varRefreshCmd": "print(var_dic_list())"
    },
    "r": {
     "delete_cmd_postfix": ") ",
     "delete_cmd_prefix": "rm(",
     "library": "var_list.r",
     "varRefreshCmd": "cat(var_dic_list()) "
    }
   },
   "types_to_exclude": [
    "module",
    "function",
    "builtin_function_or_method",
    "instance",
    "_Feature"
   ],
   "window_display": false
  }
 },
 "nbformat": 4,
 "nbformat_minor": 2
}
