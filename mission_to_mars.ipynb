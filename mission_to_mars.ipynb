{
 "cells": [
  {
   "cell_type": "code",
   "execution_count": 9,
   "metadata": {},
   "outputs": [],
   "source": [
    "# declare dependencies\n",
    "import requests\n",
    "from bs4 import BeautifulSoup\n",
    "import pandas as pd\n",
    "import re\n",
    "from splinter import Browser\n",
    "import time\n",
    "\n",
    "from pymongo import MongoClient\n",
    "client = MongoClient()\n",
    "\n",
    "browser = Browser('chrome',headless=False)"
   ]
  },
  {
   "cell_type": "markdown",
   "metadata": {},
   "source": [
    "# Mars News"
   ]
  },
  {
   "cell_type": "code",
   "execution_count": 10,
   "metadata": {},
   "outputs": [
    {
     "data": {
      "text/plain": [
       "{'news_title': 'After a Reset, Curiosity Is Operating Normally',\n",
       " 'news_paragraph': 'Curiosity has returned to science operations and is once again exploring the clay unit. '}"
      ]
     },
     "execution_count": 10,
     "metadata": {},
     "output_type": "execute_result"
    }
   ],
   "source": [
    "def get_mars_headline():\n",
    "\n",
    "    # visited mars news through the splinter module\n",
    "    news_url = 'https://mars.nasa.gov/news/'\n",
    "    browser.visit(news_url)\n",
    "    time.sleep(2)\n",
    "\n",
    "    # created an html object to obtain html content\n",
    "    news_html = browser.html\n",
    "\n",
    "    # parsing through html using beautiful soup\n",
    "    soup = BeautifulSoup(news_html, 'html.parser')\n",
    "\n",
    "    # assigned the title and paragraph text to variables\n",
    "    news_title = soup.find('div', {'class': 'content_title'}).find('a').text\n",
    "    news_p = soup.find('div', {'class': 'article_teaser_body'}).text\n",
    "    \n",
    "    # function will return the news_title / news_p variables in a dict format\n",
    "    return {'news_title':news_title, 'news_paragraph': news_p}\n",
    "\n",
    "# assigned the get_mars_headline() function to a variable\n",
    "headlines_dict = get_mars_headline()\n",
    "headlines_dict"
   ]
  },
  {
   "cell_type": "markdown",
   "metadata": {},
   "source": [
    "# JPL Mars Space Images - Featured Image"
   ]
  },
  {
   "cell_type": "code",
   "execution_count": 11,
   "metadata": {},
   "outputs": [
    {
     "data": {
      "text/plain": [
       "{'image_url': 'https://www.jpl.nasa.gov/spaceimages/images/wallpaper/PIA16711-1920x1200.jpg'}"
      ]
     },
     "execution_count": 11,
     "metadata": {},
     "output_type": "execute_result"
    }
   ],
   "source": [
    "def get_featured_image_url():\n",
    "\n",
    "    # visited mars space images through the splinter module\n",
    "    image_url = 'https://www.jpl.nasa.gov/spaceimages/?search=&category=Mars'\n",
    "    browser.visit(image_url)\n",
    "    time.sleep(2)\n",
    "\n",
    "    # created an html object to obtain html content\n",
    "    image_html = browser.html\n",
    "\n",
    "    # parsing through html using beautiful soup\n",
    "    soup = BeautifulSoup(image_html, 'html.parser')\n",
    "\n",
    "    # retrieved background-image url from article > style tag\n",
    "    article = soup.find('article')['style']\n",
    "\n",
    "    # sliced the image url to only include the path to the image\n",
    "    image_url = article[23:-3]\n",
    "\n",
    "    # website url \n",
    "    main_url = 'https://www.jpl.nasa.gov'\n",
    "\n",
    "    # combined the website url with the spliced image url\n",
    "    featured_image_url = main_url + image_url\n",
    "    \n",
    "    # function will return the full image url in dict format\n",
    "    return {'image_url': featured_image_url}\n",
    "\n",
    "# assigned the get_featured_image_url() function to a variable\n",
    "featured_image_dict = get_featured_image_url()\n",
    "featured_image_dict"
   ]
  },
  {
   "cell_type": "markdown",
   "metadata": {},
   "source": [
    "# Mars Weather"
   ]
  },
  {
   "cell_type": "code",
   "execution_count": 12,
   "metadata": {},
   "outputs": [
    {
     "data": {
      "text/plain": [
       "{'mars_weather': 'InSight sol 92 (2019-03-01) low -94.4ºC (-137.9ºF) high -12.9ºC (8.8ºF)\\nwinds from the SW at 4.6 m/s (10.2 mph) gusting to 10.4 m/s (23.2 mph)\\npressure at 7.20 hPapic.twitter.com/zxXhRFOwTo'}"
      ]
     },
     "execution_count": 12,
     "metadata": {},
     "output_type": "execute_result"
    }
   ],
   "source": [
    "def get_mars_weather():\n",
    "\n",
    "    # visited mars weather through the splinter module\n",
    "    weather_url = \"https://twitter.com/marswxreport?lang=en\"\n",
    "    browser.visit(weather_url)\n",
    "    time.sleep(2)\n",
    "\n",
    "    # created an html object to obtain html content\n",
    "    weather_html = browser.html\n",
    "\n",
    "    # parsing through html using beautiful soup\n",
    "    soup = BeautifulSoup(weather_html, 'html.parser')\n",
    "\n",
    "    # retrieved html content containing tweet information\n",
    "    latest_tweets = soup.find_all('div', {'class':'js-tweet-text-container'})\n",
    "\n",
    "    # for loop to loop through tweets and to retrieve the first tweet  \n",
    "    # with weather information \n",
    "    for tweet in latest_tweets:\n",
    "        weather_tweet = tweet.find('p').text\n",
    "        # two strings found in every weather-related tweet\n",
    "        if 'sol' and 'low' in weather_tweet:\n",
    "            \n",
    "            # function will return mars weather tweet in dict format\n",
    "            return {'mars_weather': weather_tweet}\n",
    "            break\n",
    "            \n",
    "        else:\n",
    "            pass\n",
    "\n",
    "# assigned the get_mars_weather() function to a variable\n",
    "mars_weather_dict = get_mars_weather()\n",
    "mars_weather_dict"
   ]
  },
  {
   "cell_type": "markdown",
   "metadata": {},
   "source": [
    "# Mars Facts"
   ]
  },
  {
   "cell_type": "code",
   "execution_count": 13,
   "metadata": {},
   "outputs": [
    {
     "data": {
      "text/plain": [
       "{'html_table_facts': '<table border=\"1\" class=\"dataframe table-dark table-hover\">\\n  <thead>\\n    <tr style=\"text-align: right;\">\\n      <th></th>\\n      <th>Description</th>\\n      <th>Measurement</th>\\n    </tr>\\n  </thead>\\n  <tbody>\\n    <tr>\\n      <th>0</th>\\n      <td>Equatorial Diameter:</td>\\n      <td>6,792 km</td>\\n    </tr>\\n    <tr>\\n      <th>1</th>\\n      <td>Polar Diameter:</td>\\n      <td>6,752 km</td>\\n    </tr>\\n    <tr>\\n      <th>2</th>\\n      <td>Mass:</td>\\n      <td>6.42 x 10^23 kg (10.7% Earth)</td>\\n    </tr>\\n    <tr>\\n      <th>3</th>\\n      <td>Moons:</td>\\n      <td>2 (Phobos &amp; Deimos)</td>\\n    </tr>\\n    <tr>\\n      <th>4</th>\\n      <td>Orbit Distance:</td>\\n      <td>227,943,824 km (1.52 AU)</td>\\n    </tr>\\n    <tr>\\n      <th>5</th>\\n      <td>Orbit Period:</td>\\n      <td>687 days (1.9 years)</td>\\n    </tr>\\n    <tr>\\n      <th>6</th>\\n      <td>Surface Temperature:</td>\\n      <td>-153 to 20 °C</td>\\n    </tr>\\n    <tr>\\n      <th>7</th>\\n      <td>First Record:</td>\\n      <td>2nd millennium BC</td>\\n    </tr>\\n    <tr>\\n      <th>8</th>\\n      <td>Recorded By:</td>\\n      <td>Egyptian astronomers</td>\\n    </tr>\\n  </tbody>\\n</table>'}"
      ]
     },
     "execution_count": 13,
     "metadata": {},
     "output_type": "execute_result"
    }
   ],
   "source": [
    "def get_mars_facts():\n",
    "\n",
    "    # visited mars facts through the splinter module\n",
    "    fact_url = \"https://space-facts.com/mars/\"\n",
    "    browser.visit(fact_url)\n",
    "    time.sleep(2)\n",
    "    \n",
    "    # parsed the html using pandas\n",
    "    mars_facts = pd.read_html(fact_url)\n",
    "\n",
    "    # assigned the facts dataframe to mars_df\n",
    "    mars_df = mars_facts[0]\n",
    "\n",
    "    # assigned the column names in the mars_df\n",
    "    mars_df.columns = ['Description', 'Measurement']\n",
    "    formatted = mars_df.to_html(classes=[\"table-dark\", \"table-hover\"])\n",
    "    \n",
    "    # function will return mars facts html table in dict format\n",
    "    return {\"html_table_facts\": formatted}\n",
    "\n",
    "# assigned the get_mars_facts() function to a variable\n",
    "mars_facts_dict = get_mars_facts()\n",
    "mars_facts_dict"
   ]
  },
  {
   "cell_type": "markdown",
   "metadata": {},
   "source": [
    "# Mars Hemispheres"
   ]
  },
  {
   "cell_type": "code",
   "execution_count": 14,
   "metadata": {},
   "outputs": [
    {
     "data": {
      "text/plain": [
       "{'hemi_image_urls': [{'title': 'Cerberus Hemisphere Enhanced',\n",
       "   'img_url': 'https://astrogeology.usgs.gov/cache/images/cfa62af2557222a02478f1fcd781d445_cerberus_enhanced.tif_full.jpg'},\n",
       "  {'title': 'Schiaparelli Hemisphere Enhanced',\n",
       "   'img_url': 'https://astrogeology.usgs.gov/cache/images/3cdd1cbf5e0813bba925c9030d13b62e_schiaparelli_enhanced.tif_full.jpg'},\n",
       "  {'title': 'Syrtis Major Hemisphere Enhanced',\n",
       "   'img_url': 'https://astrogeology.usgs.gov/cache/images/ae209b4e408bb6c3e67b6af38168cf28_syrtis_major_enhanced.tif_full.jpg'},\n",
       "  {'title': 'Valles Marineris Hemisphere Enhanced',\n",
       "   'img_url': 'https://astrogeology.usgs.gov/cache/images/7cf2da4bf549ed01c17f206327be4db7_valles_marineris_enhanced.tif_full.jpg'}]}"
      ]
     },
     "execution_count": 14,
     "metadata": {},
     "output_type": "execute_result"
    }
   ],
   "source": [
    "def get_mars_hemispheres():\n",
    "    \n",
    "    # visited mars hemispheres through the splinter module\n",
    "    hemi_url = 'https://astrogeology.usgs.gov/search/results?q=hemisphere+enhanced&k1=target&v1=Mars'\n",
    "    browser.visit(hemi_url)\n",
    "    time.sleep(2)\n",
    "\n",
    "    # created an html object to obtain html content\n",
    "    hemi_html = browser.html\n",
    "\n",
    "    # parsing through html using beautiful soup\n",
    "    soup = BeautifulSoup(hemi_html, 'html.parser')\n",
    "\n",
    "    # retrieved container holding hemi info\n",
    "    products = soup.find_all('div', {'class': 'item'})\n",
    "\n",
    "    # created empty list for hemisphere urls\n",
    "    hemi_image_urls = []\n",
    "\n",
    "    # stored the main url\n",
    "    hemi_main_url = 'https://astrogeology.usgs.gov'\n",
    "\n",
    "    # for loop to find hemi info\n",
    "    for p in products:\n",
    "\n",
    "        # stored hemi title as object\n",
    "        title = p.find('h3').text\n",
    "\n",
    "        # stored link that leads to full image website\n",
    "        partial_img_url = p.find('a', {'class': 'itemLink product-item'})['href']\n",
    "\n",
    "        # visited the link that contains the full image website\n",
    "        browser.visit(hemi_main_url + partial_img_url)\n",
    "\n",
    "        # created an html object to obtain html content\n",
    "        partial_img_html = browser.html\n",
    "\n",
    "        # parsing through html using beautiful soup\n",
    "        soup = BeautifulSoup(partial_img_html, 'html.parser')\n",
    "\n",
    "        # stored full image url as object\n",
    "        img_url = hemi_main_url + soup.find('img', {'class': 'wide-image'})['src']\n",
    "\n",
    "        # appended the retreived information into hemi_image_urls list\n",
    "        hemi_image_urls.append({\"title\": title, \"img_url\": img_url})\n",
    "\n",
    "    # function will return mars hemisphere image urls in a list of dicts format\n",
    "    return {\"hemi_image_urls\":hemi_image_urls}\n",
    "\n",
    "\n",
    "# assigned the get_mars_hemispheres() function to a variable\n",
    "mars_hemi_dict = get_mars_hemispheres()\n",
    "mars_hemi_dict"
   ]
  },
  {
   "cell_type": "code",
   "execution_count": 15,
   "metadata": {},
   "outputs": [
    {
     "data": {
      "text/plain": [
       "{'news_title': 'After a Reset, Curiosity Is Operating Normally',\n",
       " 'news_paragraph': 'Curiosity has returned to science operations and is once again exploring the clay unit. ',\n",
       " 'image_url': 'https://www.jpl.nasa.gov/spaceimages/images/wallpaper/PIA16711-1920x1200.jpg',\n",
       " 'html_table_facts': '<table border=\"1\" class=\"dataframe table-dark table-hover\">\\n  <thead>\\n    <tr style=\"text-align: right;\">\\n      <th></th>\\n      <th>Description</th>\\n      <th>Measurement</th>\\n    </tr>\\n  </thead>\\n  <tbody>\\n    <tr>\\n      <th>0</th>\\n      <td>Equatorial Diameter:</td>\\n      <td>6,792 km</td>\\n    </tr>\\n    <tr>\\n      <th>1</th>\\n      <td>Polar Diameter:</td>\\n      <td>6,752 km</td>\\n    </tr>\\n    <tr>\\n      <th>2</th>\\n      <td>Mass:</td>\\n      <td>6.42 x 10^23 kg (10.7% Earth)</td>\\n    </tr>\\n    <tr>\\n      <th>3</th>\\n      <td>Moons:</td>\\n      <td>2 (Phobos &amp; Deimos)</td>\\n    </tr>\\n    <tr>\\n      <th>4</th>\\n      <td>Orbit Distance:</td>\\n      <td>227,943,824 km (1.52 AU)</td>\\n    </tr>\\n    <tr>\\n      <th>5</th>\\n      <td>Orbit Period:</td>\\n      <td>687 days (1.9 years)</td>\\n    </tr>\\n    <tr>\\n      <th>6</th>\\n      <td>Surface Temperature:</td>\\n      <td>-153 to 20 °C</td>\\n    </tr>\\n    <tr>\\n      <th>7</th>\\n      <td>First Record:</td>\\n      <td>2nd millennium BC</td>\\n    </tr>\\n    <tr>\\n      <th>8</th>\\n      <td>Recorded By:</td>\\n      <td>Egyptian astronomers</td>\\n    </tr>\\n  </tbody>\\n</table>',\n",
       " 'mars_weather': 'InSight sol 92 (2019-03-01) low -94.4ºC (-137.9ºF) high -12.9ºC (8.8ºF)\\nwinds from the SW at 4.6 m/s (10.2 mph) gusting to 10.4 m/s (23.2 mph)\\npressure at 7.20 hPapic.twitter.com/zxXhRFOwTo',\n",
       " 'hemi_image_urls': [{'title': 'Cerberus Hemisphere Enhanced',\n",
       "   'img_url': 'https://astrogeology.usgs.gov/cache/images/cfa62af2557222a02478f1fcd781d445_cerberus_enhanced.tif_full.jpg'},\n",
       "  {'title': 'Schiaparelli Hemisphere Enhanced',\n",
       "   'img_url': 'https://astrogeology.usgs.gov/cache/images/3cdd1cbf5e0813bba925c9030d13b62e_schiaparelli_enhanced.tif_full.jpg'},\n",
       "  {'title': 'Syrtis Major Hemisphere Enhanced',\n",
       "   'img_url': 'https://astrogeology.usgs.gov/cache/images/ae209b4e408bb6c3e67b6af38168cf28_syrtis_major_enhanced.tif_full.jpg'},\n",
       "  {'title': 'Valles Marineris Hemisphere Enhanced',\n",
       "   'img_url': 'https://astrogeology.usgs.gov/cache/images/7cf2da4bf549ed01c17f206327be4db7_valles_marineris_enhanced.tif_full.jpg'}]}"
      ]
     },
     "execution_count": 15,
     "metadata": {},
     "output_type": "execute_result"
    }
   ],
   "source": [
    "# Insert the dicts into Mongo - but first merge our dictionaries into one dict\n",
    "merged_dict = {**headlines_dict, **featured_image_dict,\n",
    "               **mars_facts_dict, **mars_weather_dict, **mars_hemi_dict}\n",
    "merged_dict"
   ]
  },
  {
   "cell_type": "code",
   "execution_count": 16,
   "metadata": {},
   "outputs": [
    {
     "data": {
      "text/plain": [
       "<pymongo.results.InsertOneResult at 0x116988048>"
      ]
     },
     "execution_count": 16,
     "metadata": {},
     "output_type": "execute_result"
    }
   ],
   "source": [
    "db = client.mission_to_mars\n",
    "collection = db.mars_collection\n",
    "collection.insert_one(merged_dict)"
   ]
  },
  {
   "cell_type": "code",
   "execution_count": null,
   "metadata": {},
   "outputs": [],
   "source": []
  }
 ],
 "metadata": {
  "kernelspec": {
   "display_name": "Python 3",
   "language": "python",
   "name": "python3"
  },
  "language_info": {
   "codemirror_mode": {
    "name": "ipython",
    "version": 3
   },
   "file_extension": ".py",
   "mimetype": "text/x-python",
   "name": "python",
   "nbconvert_exporter": "python",
   "pygments_lexer": "ipython3",
   "version": "3.7.1"
  },
  "toc": {
   "base_numbering": 1,
   "nav_menu": {},
   "number_sections": false,
   "sideBar": true,
   "skip_h1_title": false,
   "title_cell": "Table of Contents",
   "title_sidebar": "Contents",
   "toc_cell": false,
   "toc_position": {},
   "toc_section_display": true,
   "toc_window_display": false
  },
  "varInspector": {
   "cols": {
    "lenName": "50",
    "lenType": 16,
    "lenVar": 40
   },
   "kernels_config": {
    "python": {
     "delete_cmd_postfix": "",
     "delete_cmd_prefix": "del ",
     "library": "var_list.py",
     "varRefreshCmd": "print(var_dic_list())"
    },
    "r": {
     "delete_cmd_postfix": ") ",
     "delete_cmd_prefix": "rm(",
     "library": "var_list.r",
     "varRefreshCmd": "cat(var_dic_list()) "
    }
   },
   "oldHeight": 258,
   "position": {
    "height": "280px",
    "left": "917px",
    "right": "20px",
    "top": "71px",
    "width": "497px"
   },
   "types_to_exclude": [
    "module",
    "function",
    "builtin_function_or_method",
    "instance",
    "_Feature"
   ],
   "varInspector_section_display": "block",
   "window_display": false
  }
 },
 "nbformat": 4,
 "nbformat_minor": 2
}
